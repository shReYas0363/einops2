{
 "cells": [
  {
   "cell_type": "code",
   "execution_count": null,
   "id": "e255dcf7",
   "metadata": {
    "vscode": {
     "languageId": "plaintext"
    }
   },
   "outputs": [],
   "source": [
    "import numpy as np \n",
    "from einops2 import rearrange"
   ]
  },
  {
   "cell_type": "code",
   "execution_count": null,
   "id": "9abc49b5",
   "metadata": {
    "vscode": {
     "languageId": "plaintext"
    }
   },
   "outputs": [],
   "source": [
    "pattern=\"b h w c -> b c h w\"\n",
    "tensor = np.random.rand(2, 3, 4, 5)  \n",
    "transformed=rearrange(tensor, pattern, b=2, h=3, w=4, c=5)\n",
    "print(transformed.shape)  # Output: (2, 5, 3, 4)"
   ]
  }
 ],
 "metadata": {
  "language_info": {
   "name": "python"
  }
 },
 "nbformat": 4,
 "nbformat_minor": 5
}
